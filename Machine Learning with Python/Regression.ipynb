{
 "cells": [
  {
   "cell_type": "markdown",
   "metadata": {},
   "source": [
    "Author: <a href=\"https://github.com/MahdiRahbar\"> Mahdi </a>   \n",
    "Written for *Maher Sho!* workshops."
   ]
  },
  {
   "cell_type": "markdown",
   "metadata": {},
   "source": [
    "## Machine Learning Workflow\n",
    "For making a model using machine learning algorithms, we have to follow an almost fixed workflow to get the job done!\n",
    "\n",
    "<img src=\"img/workflow.jpg\">\n",
    "<p style=\"color:#888888; font-size:0.95em\">Fig 1. The picture is retrieved from <a style=\"text-decoration:none\" href=\"https://medium.com/@mallrishabh52/data-preprocessing-and-workflow-of-a-machine-learning-project-bc6ca9e6f3ad/\">this</a> medium post!</p>"
   ]
  },
  {
   "cell_type": "markdown",
   "metadata": {},
   "source": [
    "### 0. Importing packages, libraries and modules\n",
    "On the top of programs, we import packages, libraries and overall everything that we are going to use later in our program!"
   ]
  },
  {
   "cell_type": "code",
   "execution_count": 1,
   "metadata": {},
   "outputs": [],
   "source": [
    "import pandas as pd \n",
    "import numpy as np \n",
    "\n",
    "from sklearn.preprocessing import LabelEncoder\n",
    "from sklearn.model_selection import train_test_split\n",
    "from sklearn.linear_model import LinearRegression"
   ]
  },
  {
   "cell_type": "markdown",
   "metadata": {},
   "source": [
    "### 1. Getting data and importing it into our program\n",
    "The first step in every program is to import the dataset. The method and the tool we use for importing the data is directly relevant to the type of data we have. Most conventional types can be imported directly by ```Pandas``` library. However, there are many cases that data comes in ```.txt```-like format and requires other methods to be imported. "
   ]
  },
  {
   "cell_type": "code",
   "execution_count": null,
   "metadata": {},
   "outputs": [],
   "source": [
    "data = # This is where we have to import the data to the program"
   ]
  },
  {
   "cell_type": "code",
   "execution_count": null,
   "metadata": {},
   "outputs": [],
   "source": [
    "data.head()   # OPtional! Just to get an idea how the data looks like in terms of dimension and dtypes. "
   ]
  },
  {
   "cell_type": "code",
   "execution_count": null,
   "metadata": {},
   "outputs": [],
   "source": [
    "data.info()     # OPtional! Just to get an idea how the data looks like in terms of dimension and dtypes. "
   ]
  },
  {
   "cell_type": "code",
   "execution_count": null,
   "metadata": {},
   "outputs": [],
   "source": [
    "data.describe()  # To get some overall view of the data"
   ]
  },
  {
   "cell_type": "code",
   "execution_count": null,
   "metadata": {},
   "outputs": [],
   "source": [
    "data.corr(method ='pearson')  # To show the correlation between each feature."
   ]
  },
  {
   "cell_type": "markdown",
   "metadata": {},
   "source": [
    "### 2. Data preprocessing \n",
    "This section mostly is most time consuming part of every machine learning project. This section can be splitted into several subtasks:\n",
    "1. Converting categorical to numerical if it's required\n",
    "2. Feature selection, Feature weighting and etc. \n",
    "3. Feature scaling \n",
    "4. Splitting data into two group of training data and testing data. (with the ratio of 80 to 20 respectively. Although can vary by application)\n",
    "5. Splitting *x* and *y*\n",
    "6. Changing the input data and lebels' dimensions to the proper shape."
   ]
  },
  {
   "cell_type": "code",
   "execution_count": null,
   "metadata": {},
   "outputs": [],
   "source": [
    "def cat_to_num(data):\n",
    "    '''\n",
    "    input: pd.DataFrame\n",
    "    output: pd.DataFrame\n",
    "    -----------------------------------\n",
    "    Description: gets the original data\n",
    "    and convert the categorical columns \n",
    "    to numerical and return the modified\n",
    "    data. \n",
    "    '''\n",
    "    \n",
    "    # Your code\n",
    "    #\n",
    "    #\n",
    "    #\n",
    "    # Your code\n",
    "    \n",
    "    \n",
    "    return data"
   ]
  },
  {
   "cell_type": "code",
   "execution_count": null,
   "metadata": {},
   "outputs": [],
   "source": [
    "numerical_data = cat_to_num(data) # call the function and store the returned value in a new variable"
   ]
  },
  {
   "cell_type": "code",
   "execution_count": null,
   "metadata": {},
   "outputs": [],
   "source": [
    "numerical_data.head()  # Just to check the new data "
   ]
  },
  {
   "cell_type": "code",
   "execution_count": null,
   "metadata": {},
   "outputs": [],
   "source": [
    "y = # split y from the whole data\n",
    "x = # split x from the data"
   ]
  },
  {
   "cell_type": "code",
   "execution_count": null,
   "metadata": {},
   "outputs": [],
   "source": [
    "x_train, x_test, y_train, y_test = # Check how to split data into train and test datasets"
   ]
  },
  {
   "cell_type": "markdown",
   "metadata": {},
   "source": [
    "### 3. Train the Model\n",
    "Now that we have everything, it's time to train the model. For doing that we can simply use ```sklearn``` package."
   ]
  },
  {
   "cell_type": "code",
   "execution_count": null,
   "metadata": {},
   "outputs": [],
   "source": [
    "reg = LinearRegression()   # Creating an object from LinearRegression called reg\n",
    "\n",
    "# Write a line of code to train the data"
   ]
  },
  {
   "cell_type": "markdown",
   "metadata": {},
   "source": [
    "### 3. Testing the Model"
   ]
  },
  {
   "cell_type": "code",
   "execution_count": null,
   "metadata": {},
   "outputs": [],
   "source": [
    "# Now it's time to test the model with the testing data "
   ]
  }
 ],
 "metadata": {
  "kernelspec": {
   "display_name": "Python 3",
   "language": "python",
   "name": "python3"
  },
  "language_info": {
   "codemirror_mode": {
    "name": "ipython",
    "version": 3
   },
   "file_extension": ".py",
   "mimetype": "text/x-python",
   "name": "python",
   "nbconvert_exporter": "python",
   "pygments_lexer": "ipython3",
   "version": "3.8.8"
  }
 },
 "nbformat": 4,
 "nbformat_minor": 4
}
