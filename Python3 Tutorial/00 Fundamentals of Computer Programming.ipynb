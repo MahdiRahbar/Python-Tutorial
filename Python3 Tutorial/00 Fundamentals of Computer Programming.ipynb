{
 "cells": [
  {
   "cell_type": "markdown",
   "metadata": {},
   "source": [
    "## Fundamentals of Computer Programming Languages \n",
    "There are a few things we should learn before jumping into the Python itself. Therefore, in this notebook, we are going to learn some basics about Programming Languages, how they work and probably a little bit about architecture! Don't worry too much, I try my best to explain as well as possible.\n",
    "I should also note that, this notebook is not based on the Programming languages fundamentals that a CS student would learn. I just mention the things that they might be necessary or helpful for our journey in python in the future."
   ]
  },
  {
   "cell_type": "markdown",
   "metadata": {},
   "source": []
  }
 ],
 "metadata": {
  "kernelspec": {
   "display_name": "Python 3",
   "language": "python",
   "name": "python3"
  },
  "language_info": {
   "codemirror_mode": {
    "name": "ipython",
    "version": 3
   },
   "file_extension": ".py",
   "mimetype": "text/x-python",
   "name": "python",
   "nbconvert_exporter": "python",
   "pygments_lexer": "ipython3",
   "version": "3.6.8"
  }
 },
 "nbformat": 4,
 "nbformat_minor": 2
}
