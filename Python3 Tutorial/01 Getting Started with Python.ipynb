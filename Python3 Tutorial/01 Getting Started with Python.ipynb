{
 "cells": [
  {
   "cell_type": "markdown",
   "metadata": {},
   "source": [
    "## Getting Started"
   ]
  },
  {
   "cell_type": "markdown",
   "metadata": {},
   "source": [
    "Python is a widely used high-level programming language for general-purpose programming, created by Guido van Rossum and first released 1991. Python features a dynamic type system and automatic memory management and supports multiple programming paradigms, including object-oriented, imperative, functional programming, and procedural styles. It has a large and comprehensive standard library.\n",
    "\n",
    "Two major versions of Python are currently in active use:\n",
    "* Python 3.x is current version and is under active development.\n",
    "* Python 2.x is the legay version and will recieve only security updates until 2020. No new features will be implemented.\n",
    "\n",
    "In this tutorial we will use python 3.x. You can find a guide on how to install Python3 in [this repository](file://./Installing%20Python%20Environment.pdf) or check [Python's website](https://www.Python.org). \n",
    "\n",
    "(If you are on linux, you probably have Python pre-installed.)\n",
    "\n",
    "It is worth saying that, in this tutorial, we will install the packages manually so we can get a better intuition for the future advanced concepts. However, if you already installed Python via package mangement tools such as Anaconda, Don't worry! But if you have not, I hightly recommend you to install Python 3 manually by downloading the corrosponding Python isntallation file to your computer's OS from its [website](https://www.Python.org).\n"
   ]
  },
  {
   "cell_type": "markdown",
   "metadata": {},
   "source": [
    "### Verify Python's installation"
   ]
  },
  {
   "cell_type": "markdown",
   "metadata": {},
   "source": [
    "To confirm that Python was installed correctly, you can verify that by running the following command in your\n",
    "favorite terminal (If you are using Windows OS, you need to add path of python to the environment variable before\n",
    "using it in command prompt):\n",
    "```python\n",
    "$ python --version\n",
    "```\n",
    "Another easy way to understand if python is installed properly or not, is to enter *python* in the terminal or command prompt and then click enter. If python is installed and added to your environment, you can see that Python's interpreter start working."
   ]
  },
  {
   "cell_type": "code",
   "execution_count": null,
   "metadata": {},
   "outputs": [],
   "source": []
  }
 ],
 "metadata": {
  "kernelspec": {
   "display_name": "Python 3",
   "language": "python",
   "name": "python3"
  },
  "language_info": {
   "codemirror_mode": {
    "name": "ipython",
    "version": 3
   },
   "file_extension": ".py",
   "mimetype": "text/x-python",
   "name": "python",
   "nbconvert_exporter": "python",
   "pygments_lexer": "ipython3",
   "version": "3.6.8"
  }
 },
 "nbformat": 4,
 "nbformat_minor": 2
}
