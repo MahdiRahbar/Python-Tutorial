{
 "cells": [
  {
   "cell_type": "markdown",
   "metadata": {},
   "source": [
    "## Getting Started"
   ]
  },
  {
   "cell_type": "markdown",
   "metadata": {},
   "source": [
    "Python is a widely used high-level programming language for general-purpose programming, created by Guido van Rossum and first released 1991. Python features a dynamic type system and automatic memory management and supports multiple programming paradigms, including object-oriented, imperative, functional programming, and procedural styles. It has a large and comprehensive standard library.\n",
    "\n",
    "Two major versions of Python are currently in active use:\n",
    "* Python 3.x is current version and is under active development.\n",
    "* Python 2.x is the legay version and will recieve only security updates until 2020. No new features will be implemented.\n",
    "\n",
    "In this tutorial we will use python 3.x. You can find a guide on how to install Python3 in [this repository](file://./Installing%20Python%20Environment.pdf) or check [Python's website](https://www.Python.org). \n",
    "\n",
    "(If you are on linux, you probably have Python pre-installed.)\n",
    "\n",
    "It is worth saying that, in this tutorial, we will install the packages manually so we can get a better intuition for the future advanced concepts. However, if you already installed Python via package mangement tools such as Anaconda, Don't worry! But if you have not, I hightly recommend you to install Python 3 manually by downloading the corrosponding Python isntallation file to your computer's OS from its [website](https://www.Python.org).\n"
   ]
  },
  {
   "cell_type": "markdown",
   "metadata": {},
   "source": [
    "### Verify Python's installation"
   ]
  },
  {
   "cell_type": "markdown",
   "metadata": {},
   "source": [
    "To confirm that Python was installed correctly, you can verify that by running the following command in your\n",
    "favorite terminal (If you are using Windows OS, you need to add path of python to the environment variable before\n",
    "using it in command prompt):\n",
    "```python\n",
    "$ python --version\n",
    "Python 3.7.4\n",
    "```\n",
    "Another easy way to understand if python is installed properly or not, is to enter *python* in the terminal or command prompt and then click enter. If python is installed and added to your environment, you can see that Python's interpreter (interactive Python shell) start working."
   ]
  },
  {
   "cell_type": "markdown",
   "metadata": {},
   "source": [
    "```python\n",
    "$ python\n",
    "Python 3.7.4 (tags/v3.7.4:15b2db4a45, Jul 08 2019, 09:16:47) [MSC 64 bit (AMD64)] on win32\n",
    "Type \"help\", \"copyright\", \"credits\" or \"license\" for more information.\n",
    ">>>\n",
    "```"
   ]
  },
  {
   "cell_type": "markdown",
   "metadata": {},
   "source": [
    "If it is installed, we are good to go. \n",
    "#### Hello World! in Python\n",
    "\n",
    "Displaying this easy sentence, ``Hello, World!`` is the first task most programmers do traditionally while they are learning a new programming language. So this is what we are going to do now! For writing the syntax, we have several options.\n",
    "1. Running python in command prompt on Windows, or in terminal on MacOS or Linux as it is shown above.\n",
    "2. We use IDLE. IDLE is a simple editor for Python, that comes alongside with python. If you are on Windows, just search for IDLE. If you are using Linux, use the following command:\n",
    "```python\n",
    "# for Linux:\n",
    "idle python_file.py\n",
    "```\n",
    "3. Writing the syntax somewhere, save it as for example ``hello_world.py`` and then run it later somehow. "
   ]
  },
  {
   "cell_type": "markdown",
   "metadata": {},
   "source": [
    "In the shell or in the terminal we can see that ther is a prompt of three angle brackets: \n",
    "```python\n",
    ">>>\n",
    "```\n",
    "Now write the following code in the prompt: \n",
    "```python\n",
    ">>> print(\"Hello, World!\")\n",
    "```\n",
    "Hit ``Enter``\n",
    "```python\n",
    ">>> print(\"Hello, World!\")\n",
    "Hello, World!\n",
    "```"
   ]
  },
  {
   "cell_type": "markdown",
   "metadata": {},
   "source": [
    "#### Running a *.py* file\n",
    "Now we are going to try the third option, Saving the code in a file and then run it. To do so, we need to open a note editor, such as **notepad**, **Notepad**, **gedit** or whatever note editor you have. \n",
    "Then write the following command and **Save** the file as hello_world.py:\n",
    "```\n",
    "print(\"Hello, World!\")\n",
    "```\n",
    "Be careful about the spaces! If you any extra space behind the *print* command, your code ends to error. We are going to address to Python space in later tutorials."
   ]
  },
  {
   "cell_type": "markdown",
   "metadata": {},
   "source": [
    "Now we have to navigate to the directory where we have saved the ``hello_world.py`` in the terminal or command prompt and to run the code, we type the following command and hit ``Enter``: \n",
    "```python\n",
    "# Windows: \n",
    ">>> python hello_world.py\n",
    "#Linux and MacOS\n",
    ">>> python3 hello_world.py\n",
    "```"
   ]
  },
  {
   "cell_type": "markdown",
   "metadata": {},
   "source": [
    "What is basically happenning here is that we are asking the Python's interpreter to run everything inside the ``hello_world.py`` file. And what have written is ``print(\"Hello, World!\")`` which the ``print`` statement tells the Python's interpreter to display and print whatever that is inside the parantheses."
   ]
  },
  {
   "cell_type": "markdown",
   "metadata": {},
   "source": [
    "### Other Online Shells \n",
    "Various websites provide online access to Python shells.\n",
    "Online shells may be useful for the following purposes:\n",
    "* Run a small code snippet from a machine which lacks python installation(smartphones, tablets etc).\n",
    "* Learn or teach basic Python.\n",
    "* Solve online judge problems.\n",
    "\n",
    "Example : \n",
    "* [python.org](https://www.python.org/shell/) - The online Python shell hosted by the official Python website.\n",
    "* [ideone.com](https://ideone.com/) - Widely used on the Net to illustrate code snippet behavior.\n",
    "* [repl.it](https://repl.it/languages/python3) - Powerful and simple online compiler, IDE and interpreter. Code, compile,\n",
    "and run code in Python.\n",
    "* [tutorialspoint.com](https://www.tutorialspoint.com/execute_python_online.php) - Full-featured UNIX shell, and a user-friendly\n",
    "project explorer.\n",
    "* [rextester.com](http://rextester.com/l/python3_online_compiler) - Simple and easy to use IDE which shows execution time"
   ]
  },
  {
   "cell_type": "markdown",
   "metadata": {},
   "source": [
    "### Package management \n",
    "The PyPA recommended tool for installing Python packages is [PIP](https://pip.pypa.io/en/stable/). Also there is a pretty good guide about PIP installation in [this link](https://pip.pypa.io/en/stable/installing/).\n",
    "There is also some other package manager softwares such as [Anaconda](https://www.anaconda.com/) which is the most famous after PIP, [Canopy](https://www.enthought.com/product/canopy/) and etc. Although for example *Anconda* can be the best choice for installation of some packages, but as I mentioned before, I don't recommend these package mangers for the purpose of this tutorial. "
   ]
  },
  {
   "cell_type": "markdown",
   "metadata": {},
   "source": [
    "#### Good to know\n",
    "For long-term storage you can save content to .py files and edit/execute them as scripts or programs\n",
    "with external tools e.g. shell, [IDEs] (such as PyCharm), Jupyter notebooks, etc. Intermediate users may use these\n",
    "tools; however, the methods discussed here are sufficient for getting started.\n",
    "\n",
    "[Python tutor](http://www.pythontutor.com/visualize.html#mode=edit) allows you to step through Python code so you can visualize how the program will flow, and helps you to understand where your program went wrong.\n",
    "\n",
    "[PEP8](https://www.python.org/dev/peps/pep-0008/) defines guidelines for formatting Python code. Formatting code well is important so you can quickly read what\n",
    "the code does."
   ]
  }
 ],
 "metadata": {
  "kernelspec": {
   "display_name": "Python 3",
   "language": "python",
   "name": "python3"
  },
  "language_info": {
   "codemirror_mode": {
    "name": "ipython",
    "version": 3
   },
   "file_extension": ".py",
   "mimetype": "text/x-python",
   "name": "python",
   "nbconvert_exporter": "python",
   "pygments_lexer": "ipython3",
   "version": "3.6.8"
  }
 },
 "nbformat": 4,
 "nbformat_minor": 2
}
