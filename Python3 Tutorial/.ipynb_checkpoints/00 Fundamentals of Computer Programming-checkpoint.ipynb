{
 "cells": [
  {
   "cell_type": "markdown",
   "metadata": {},
   "source": [
    "# Fundamentals of Computer Programming Languages \n",
    "I have taught Python to CS students or even to people with no programming background. What I have learned from my teaching journey is that it is better to go over import things even though you assume that your audience knows more than that. Therefore I decided to provide this notebook to give you a better understanding of what is happening under the hood. If you found this section too much or unnecessary, feel free to go to next notebook.\n",
    "\n",
    "Don't worry too much, I try my best to explain as well as possible.\n",
    "\n",
    "## Table of Content\n",
    "<div class=\"toc\">\n",
    "  <ul>\n",
    "      <li><h3><a href=\"#Programming\">Programming</a></h3></li>\n",
    "\n",
    "  </ul>\n",
    "</div>\n"
   ]
  },
  {
   "cell_type": "markdown",
   "metadata": {},
   "source": [
    "****\n",
    "<h2 id=\"Programming\">Programming</h2>\n",
    "\n",
    "Programming is referred to as the process of writing a computer program. Just like the way we speak and communicate by using language, programming languages are the communication tools for a human to command the computer to do a variety of tasks. \n",
    "\n",
    "Generally, programmming languages (PL) are categorized in two different groups. High level languages and low level languages. High level languages referred to the PLs that are closer to human communication language. This feature helps programmers to be able to write and develope their program faster and a lot easier. Python is one of those. \n",
    "\n",
    "On the other hand, low level PLs, are closer to machine language (Computer language which is 0 & 1) than human language. Hence it is more time consuming to develope a program with those languages. However, each of them has some cons and pros. But what I can say for now is that, you are in the right place. Being here means you have chosen to learn Python, which is a multi-purpose and powerful language. \n",
    "\n",
    "When we code and write a program, what we are actually doing is writing a set of ordered commands that are going to be executed respectively after each other. But how does a computer understands each of the words and commands to execute them?\n",
    "There is actually a lot of stuff going on under the hood, however I am going to explain as breif and understandable as I can. First we write the code in a place called editor. As an instance of editor I can mention [Notepad++](https://notepad-plus-plus.org/), [Spyder](https://www.spyder-ide.org/) which is a famous editor for Python, [Atom](https://atom.io/), [VSCode](https://code.visualstudio.com/), etc.\n",
    "The next step is when the code and commands are written, saved and ready to be executed. Lower level languages ... \n"
   ]
  },
  {
   "cell_type": "code",
   "execution_count": null,
   "metadata": {},
   "outputs": [],
   "source": []
  }
 ],
 "metadata": {
  "kernelspec": {
   "display_name": "Python 3",
   "language": "python",
   "name": "python3"
  },
  "language_info": {
   "codemirror_mode": {
    "name": "ipython",
    "version": 3
   },
   "file_extension": ".py",
   "mimetype": "text/x-python",
   "name": "python",
   "nbconvert_exporter": "python",
   "pygments_lexer": "ipython3",
   "version": "3.6.8"
  }
 },
 "nbformat": 4,
 "nbformat_minor": 2
}
